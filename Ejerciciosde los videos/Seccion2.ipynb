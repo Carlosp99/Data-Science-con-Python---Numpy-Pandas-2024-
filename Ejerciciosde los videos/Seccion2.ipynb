{
 "cells": [
  {
   "cell_type": "code",
   "execution_count": 3,
   "id": "d35ad439-d824-4d5d-a489-61e6c2666a7b",
   "metadata": {},
   "outputs": [
    {
     "name": "stdout",
     "output_type": "stream",
     "text": [
      "23.668639053254438\n"
     ]
    }
   ],
   "source": [
    "peso=90\n",
    "altura=1.95\n",
    "imc=peso/(altura**2)\n",
    "print(imc)"
   ]
  },
  {
   "cell_type": "code",
   "execution_count": 4,
   "id": "564ac048-6408-43f3-a5d3-695a02de430b",
   "metadata": {},
   "outputs": [],
   "source": [
    "dimensiones=[14, 18, 22, 13, 27, 'mesa']"
   ]
  },
  {
   "cell_type": "code",
   "execution_count": 5,
   "id": "3b668eb2-93b5-4c9a-9301-bfa5f807cef6",
   "metadata": {},
   "outputs": [
    {
     "name": "stdout",
     "output_type": "stream",
     "text": [
      "[18, 22, 13, 27]\n"
     ]
    }
   ],
   "source": [
    "print(dimensiones[1:5])"
   ]
  },
  {
   "cell_type": "code",
   "execution_count": 6,
   "id": "488905ba-dab8-43e1-8a05-a316e89c20c3",
   "metadata": {},
   "outputs": [],
   "source": [
    "temp = [35.6, 36.2, 35.7, 35.9, 36.3, 36.5]"
   ]
  },
  {
   "cell_type": "code",
   "execution_count": 7,
   "id": "1904d683-047b-4902-a582-d23ea25080db",
   "metadata": {},
   "outputs": [],
   "source": [
    "y=list(temp)"
   ]
  },
  {
   "cell_type": "code",
   "execution_count": 8,
   "id": "832192b9-521f-4db8-8bf3-80960315070a",
   "metadata": {},
   "outputs": [
    {
     "name": "stdout",
     "output_type": "stream",
     "text": [
      "[35.6, 36.2, 35.7, 35.9, 36.3, 36.5]\n"
     ]
    }
   ],
   "source": [
    "print(y)"
   ]
  },
  {
   "cell_type": "code",
   "execution_count": 9,
   "id": "d5e81245-5af8-4841-8980-8905802af177",
   "metadata": {},
   "outputs": [],
   "source": [
    "temp= temp+[36.6, 37.0]"
   ]
  },
  {
   "cell_type": "code",
   "execution_count": 10,
   "id": "2f46bb91-fa8a-4595-bd03-ca77a7eb9e93",
   "metadata": {},
   "outputs": [
    {
     "name": "stdout",
     "output_type": "stream",
     "text": [
      "[35.6, 36.2, 35.7, 35.9, 36.3, 36.5, 36.6, 37.0]\n",
      "[35.6, 36.2, 35.7, 35.9, 36.3, 36.5]\n"
     ]
    }
   ],
   "source": [
    "print(temp)\n",
    "print(y)"
   ]
  },
  {
   "cell_type": "code",
   "execution_count": 1,
   "id": "5be0bd21-9dbd-412a-b3cf-c139e003d459",
   "metadata": {},
   "outputs": [],
   "source": [
    "def potencia(valor_base, valor_exponente):\n",
    "    resultado= valor_base**valor_exponente\n",
    "    return resultado"
   ]
  },
  {
   "cell_type": "code",
   "execution_count": 3,
   "id": "6460ff4e-8dfe-4d31-be7a-f4a7f08a738b",
   "metadata": {},
   "outputs": [
    {
     "data": {
      "text/plain": [
       "1296"
      ]
     },
     "execution_count": 3,
     "metadata": {},
     "output_type": "execute_result"
    }
   ],
   "source": [
    "potencia(6,4)"
   ]
  },
  {
   "cell_type": "code",
   "execution_count": 6,
   "id": "4832b7ab-348c-4d9e-8321-7905e6b7bd98",
   "metadata": {},
   "outputs": [],
   "source": [
    "def area_triangulo(base, altura):\n",
    "    \"Esta funcion calcula el area de un triangulo multiplicando base por altura y divide entre dos\"\n",
    "    area=(base*altura)/2\n",
    "    return area"
   ]
  },
  {
   "cell_type": "code",
   "execution_count": 5,
   "id": "51f3c03f-5590-4cd4-826d-8d614bca6217",
   "metadata": {},
   "outputs": [
    {
     "data": {
      "text/plain": [
       "7.5"
      ]
     },
     "execution_count": 5,
     "metadata": {},
     "output_type": "execute_result"
    }
   ],
   "source": [
    "area_triangulo(5,3)"
   ]
  },
  {
   "cell_type": "code",
   "execution_count": 7,
   "id": "95232fa2-1e1a-4af6-82b4-1b2adf0b0f54",
   "metadata": {},
   "outputs": [
    {
     "name": "stdout",
     "output_type": "stream",
     "text": [
      "Help on function area_triangulo in module __main__:\n",
      "\n",
      "area_triangulo(base, altura)\n",
      "    Esta funcion calcula el area de un triangulo multiplicando base por altura y divide entre dos\n",
      "\n"
     ]
    }
   ],
   "source": [
    "help(area_triangulo)"
   ]
  },
  {
   "cell_type": "code",
   "execution_count": 8,
   "id": "aae6c00f-f5a1-4fdb-8e0a-737fe1bcaf65",
   "metadata": {},
   "outputs": [],
   "source": [
    "pot= lambda bas,exp:bas**exp"
   ]
  },
  {
   "cell_type": "code",
   "execution_count": 9,
   "id": "2cf4837f-9226-46fd-9a17-61c3297542f2",
   "metadata": {},
   "outputs": [
    {
     "data": {
      "text/plain": [
       "243"
      ]
     },
     "execution_count": 9,
     "metadata": {},
     "output_type": "execute_result"
    }
   ],
   "source": [
    "pot(3,5)"
   ]
  },
  {
   "cell_type": "code",
   "execution_count": 10,
   "id": "42d1c600-864f-4d3b-ab81-5d0ecae02e28",
   "metadata": {},
   "outputs": [],
   "source": [
    "precios_dol = [10.82, 11.95, 14.49, 24.95]"
   ]
  },
  {
   "cell_type": "code",
   "execution_count": 13,
   "id": "77e84596-acb0-4070-b7fa-e4d66fe92d8f",
   "metadata": {},
   "outputs": [],
   "source": [
    "precios_Eu= map(lambda X:X/1.1,precios_dol)"
   ]
  },
  {
   "cell_type": "code",
   "execution_count": 15,
   "id": "a61346b3-1271-4cb7-8fb6-fe43c32fcfba",
   "metadata": {},
   "outputs": [
    {
     "name": "stdout",
     "output_type": "stream",
     "text": [
      "[9.836363636363636, 10.863636363636362, 13.172727272727272, 22.68181818181818]\n"
     ]
    }
   ],
   "source": [
    "print(list(precios_Eu))"
   ]
  },
  {
   "cell_type": "code",
   "execution_count": 16,
   "id": "74496e01-73ab-4363-9dc6-d6518b77ad69",
   "metadata": {},
   "outputs": [],
   "source": [
    "pais = [\"España\", \"México\", \"Venezuela\", \"Colombia\", \"Perú\", \"Argentina\"]\n",
    "poblacion = [47, 128, 32, 50, 33, 45]"
   ]
  },
  {
   "cell_type": "code",
   "execution_count": 18,
   "id": "ffec8cba-b614-4cca-bdce-79e60cfd9fe1",
   "metadata": {},
   "outputs": [],
   "source": [
    "dic_paises= dict(zip(pais,poblacion))"
   ]
  },
  {
   "cell_type": "code",
   "execution_count": 19,
   "id": "92ee2438-a9f8-490c-9147-c02679fa3676",
   "metadata": {},
   "outputs": [
    {
     "name": "stdout",
     "output_type": "stream",
     "text": [
      "{'España': 47, 'México': 128, 'Venezuela': 32, 'Colombia': 50, 'Perú': 33, 'Argentina': 45}\n"
     ]
    }
   ],
   "source": [
    "print(dic_paises)"
   ]
  },
  {
   "cell_type": "code",
   "execution_count": 21,
   "id": "0e2b2386-2a67-404e-a524-d8cf593baf98",
   "metadata": {},
   "outputs": [
    {
     "data": {
      "text/plain": [
       "50"
      ]
     },
     "execution_count": 21,
     "metadata": {},
     "output_type": "execute_result"
    }
   ],
   "source": [
    "dic_paises[\"Colombia\"]"
   ]
  },
  {
   "cell_type": "code",
   "execution_count": null,
   "id": "fb8604ee-10ac-4831-ab6a-3a5e6cba64e8",
   "metadata": {},
   "outputs": [],
   "source": []
  }
 ],
 "metadata": {
  "kernelspec": {
   "display_name": "Python 3 (ipykernel)",
   "language": "python",
   "name": "python3"
  },
  "language_info": {
   "codemirror_mode": {
    "name": "ipython",
    "version": 3
   },
   "file_extension": ".py",
   "mimetype": "text/x-python",
   "name": "python",
   "nbconvert_exporter": "python",
   "pygments_lexer": "ipython3",
   "version": "3.11.7"
  }
 },
 "nbformat": 4,
 "nbformat_minor": 5
}
