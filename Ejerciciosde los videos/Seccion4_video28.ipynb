{
 "cells": [
  {
   "cell_type": "code",
   "execution_count": 1,
   "id": "0f5379fa-e710-4c33-8eab-08d6c667092a",
   "metadata": {},
   "outputs": [],
   "source": [
    "import numpy as np"
   ]
  },
  {
   "cell_type": "code",
   "execution_count": 2,
   "id": "bed12f35-bd10-4448-b846-6ff51850c641",
   "metadata": {},
   "outputs": [],
   "source": [
    "bases_rec=np.array([5,2,4,7,8])\n",
    "alturas_rec=np.array([3,4,1,4,3])"
   ]
  },
  {
   "cell_type": "code",
   "execution_count": 3,
   "id": "c469a470-c5c5-4f0c-85e8-dcb592992dfd",
   "metadata": {},
   "outputs": [],
   "source": [
    "resul=bases_rec*alturas_rec"
   ]
  },
  {
   "cell_type": "code",
   "execution_count": 4,
   "id": "68d9f406-859d-4417-8220-ea40ef660fb0",
   "metadata": {},
   "outputs": [
    {
     "data": {
      "text/plain": [
       "array([15, 28, 24])"
      ]
     },
     "execution_count": 4,
     "metadata": {},
     "output_type": "execute_result"
    }
   ],
   "source": [
    "resul[resul>10]"
   ]
  },
  {
   "cell_type": "code",
   "execution_count": 6,
   "id": "2ba97ca5-6890-475c-9e2b-33c05290eb70",
   "metadata": {},
   "outputs": [],
   "source": [
    "a = np.array([1,2,3])\n",
    "b = np.array([4,5,6])"
   ]
  },
  {
   "cell_type": "code",
   "execution_count": 7,
   "id": "0c8e7737-f22a-4466-bb6b-7449af96f04b",
   "metadata": {},
   "outputs": [
    {
     "data": {
      "text/plain": [
       "array([5, 7, 9])"
      ]
     },
     "execution_count": 7,
     "metadata": {},
     "output_type": "execute_result"
    }
   ],
   "source": [
    "a+b"
   ]
  },
  {
   "cell_type": "code",
   "execution_count": null,
   "id": "39835a7a-7e58-4c45-9249-6aee7c8e2245",
   "metadata": {},
   "outputs": [],
   "source": []
  }
 ],
 "metadata": {
  "kernelspec": {
   "display_name": "Python 3 (ipykernel)",
   "language": "python",
   "name": "python3"
  },
  "language_info": {
   "codemirror_mode": {
    "name": "ipython",
    "version": 3
   },
   "file_extension": ".py",
   "mimetype": "text/x-python",
   "name": "python",
   "nbconvert_exporter": "python",
   "pygments_lexer": "ipython3",
   "version": "3.11.7"
  }
 },
 "nbformat": 4,
 "nbformat_minor": 5
}
